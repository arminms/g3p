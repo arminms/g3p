{
 "cells": [
  {
   "cell_type": "markdown",
   "id": "682a15c1-3caa-47b7-a81b-61bbc03d55c2",
   "metadata": {},
   "source": [
    "# Tutorial\n",
    "`g3p` is a header-only *Modern C++* interface \n",
    "libray for [`gnuplot`](http://www.gnuplot.info). As it supports displaying plots and animations in *Jupyter C++ Notebooks* backed by [`xeus-cling`](https://github.com/jupyter-xeus/xeus-cling) kernel, it makes a lot of sense to learn `g3p` interactively in a *Jupyter* notebook by some examples.\n",
    "\n",
    "[`gnuplot`](http://www.gnuplot.info) comes with lots of demos that you can find them [HERE](http://gnuplot.info/demos). We first start with [`simple functions`](https://gnuplot.sourceforge.net/demo_5.4/simple.html)."
   ]
  },
  {
   "cell_type": "markdown",
   "id": "839fdcd1-174c-439c-837c-682e8444494a",
   "metadata": {},
   "source": [
    "## 1. The header file\n",
    "There's a single header file in `g3p` that you have to include once:"
   ]
  },
  {
   "cell_type": "code",
   "execution_count": null,
   "id": "c565ee8c-6a78-4f2e-b0b1-1605c9efa3d5",
   "metadata": {},
   "outputs": [],
   "source": [
    "#include <g3p/gnuplot>"
   ]
  },
  {
   "cell_type": "markdown",
   "id": "fbf2be5a-a933-4737-a492-42246abdbbff",
   "metadata": {},
   "source": [
    "## 2. `gnuplot` instance\n",
    "Now you can start with a `gnuplot` instance that is defined in `g3p` namespace. We name our instance `gp`:"
   ]
  },
  {
   "cell_type": "code",
   "execution_count": null,
   "id": "4a62aa60-21a9-4939-98d4-89f6a9c8253f",
   "metadata": {},
   "outputs": [],
   "source": [
    "g3p::gnuplot gp;"
   ]
  },
  {
   "cell_type": "markdown",
   "id": "107e05f1-bd76-4382-af7c-083c90efefc9",
   "metadata": {},
   "source": [
    "## 3. The basics\n",
    "There are two ways to send string literals (e.g. `gnuplot` commands)  and variables to the `gnuplot` instance: `C` and `C++` conventions. You can even mix and match them. Let's start with the latter.\n",
    "### 3.1. `C++` *convention*\n",
    "For our first plot we use the `C++` *convention* and use almost a verbatim copy of the [`Simple Plots`](https://gnuplot.sourceforge.net/demo_5.4/simple.html) demo:"
   ]
  },
  {
   "cell_type": "code",
   "execution_count": null,
   "id": "e8ade04f-0cbb-4505-a71b-64b265caeefa",
   "metadata": {},
   "outputs": [],
   "source": [
    "int count = 40;\n",
    "gp << \"set title 'Simple Plots (\" << count << \" points )' font ',20'\\n\"\n",
    "   << \"set key left box\\n\"\n",
    "   << \"set samples\" << count << \"\\n\"\n",
    "   << \"set style data points\\n\"\n",
    "   << \"plot [-10:10] sin(x), atan(x),cos(atan(x))\\n\""
   ]
  },
  {
   "cell_type": "markdown",
   "id": "9f4db68f-7362-457e-ac1c-1821158acbda",
   "metadata": {
    "editable": true,
    "slideshow": {
     "slide_type": ""
    },
    "tags": []
   },
   "source": [
    "As you may have noticed in the previous plot, to display the plot, you need to have a `gnuplot` instance without a semicolon as the last element of a code cell. So, to replot the previous one, you can type the name of the `gnuplot` instance without semicolon and then <kbd>shift</kbd>+<kbd>enter</kbd>:"
   ]
  },
  {
   "cell_type": "code",
   "execution_count": null,
   "id": "228fb276-e062-4190-8e84-4bd6e1b6dcd5",
   "metadata": {},
   "outputs": [],
   "source": [
    "gp"
   ]
  },
  {
   "cell_type": "markdown",
   "id": "8e2af7ac-bdda-43d3-b687-84c8b19d97db",
   "metadata": {},
   "source": [
    "Another way to achieve this is using the `xcpp::display()` function. A subtle distinction between using `xcpp::display()` and omitting the last semicolon is that the latter results in a cell output including a prompt number, while the former only shows the plot. This behaviour is consistent with the Python kernel implementation."
   ]
  },
  {
   "cell_type": "code",
   "execution_count": null,
   "id": "e9b7dfe1",
   "metadata": {},
   "outputs": [],
   "source": [
    "xcpp::display(gp);"
   ]
  },
  {
   "cell_type": "markdown",
   "id": "b151f507-9f67-4913-b2f1-da025606655f",
   "metadata": {},
   "source": [
    "### 3.2. `C` *convention*\n",
    "Now we will plot it again with more points using `C` *convention*:"
   ]
  },
  {
   "cell_type": "code",
   "execution_count": null,
   "id": "efcf5c98-0e2f-47b2-8c52-881f1c13e9ad",
   "metadata": {},
   "outputs": [],
   "source": [
    "count = 200;\n",
    "gp ( \"set title 'Simple Plots ( %d points )'\", count )\n",
    "   ( \"set samples %d\", count)\n",
    "   ( \"replot\" )"
   ]
  },
  {
   "cell_type": "markdown",
   "id": "07123ecd-6336-44e1-9d5d-3a43bb42b3c3",
   "metadata": {},
   "source": [
    "### 3.3. Newline\n",
    "As you may noticed in the above examples, one important difference between `C++` and `C` *conventions* is that a newline character will be added automatically at the end of the string literals for the latter. In `g3p`, there are various ways to send a newline to a `gnuplot` instance:\n",
    "- **Implicit**\n",
    "  - String literal in parenthesis (i.e. overloaded function operator): `gp(\"...\")`\n",
    "- **Explicit**\n",
    "  - String literal: `gp << \"\\n\"` (NOTE: unlike C++ streams, single quotes are not valid. So, `gp << '\\n'` doesn't compile)\n",
    "  - End-of-line member function: `gp.endl()`\n",
    "  - End-of-line manipulator: `gp << g3p::endl`\n",
    "\n",
    "Like [`std::endl`](https://en.cppreference.com/w/cpp/io/manip/endl) manipulator for C++ streams, `g3p::endl` inserts a newline character and also flushes it by calling `gnuplot::flush()`, which doesn't happen for other methods. See section [3.4](#3.4.-Flush) for more information.\n",
    "\n",
    "Let's try all of the above methods in the same order for our next plot:"
   ]
  },
  {
   "cell_type": "code",
   "execution_count": null,
   "id": "76aa67a8-126b-483b-bfa9-663dff0ab7bb",
   "metadata": {},
   "outputs": [],
   "source": [
    "count = 100;\n",
    "gp (  \"set title 'Simple Plots ( %d points )\", count ); // implicit\n",
    "gp << \"set key right nobox\" << \"\\n\";                    // explicit - string literal\n",
    "gp <<  \"set samples\" << count;\n",
    "gp.endl();                                              // explicit - member function\n",
    "gp << \"plot [-pi/2:pi] cos(x),-(sin(x) > sin(x+1) ? sin(x) : sin(x+1))\"\n",
    "   << g3p::endl                                         // explicit - manipulator"
   ]
  },
  {
   "cell_type": "markdown",
   "id": "f01318a2-ef65-44dd-9b9d-860a065b1c07",
   "metadata": {},
   "source": [
    "### 3.4. Flush\n",
    "`g3p` uses buffered i/o to communicate with `gnuplot` instances. That means the plotting commands you use in your `C/C++` code are not necessarily received by `gnuplot` instance at any moment unless you ensure the buffer is flushed. That's particularly important after executing [`plot`](http://gnuplot.info/docs_5.5/loc7782.html), [`splot`](http://gnuplot.info/docs_5.5/loc17814.html) or [`replot`](http://gnuplot.info/docs_5.5/loc9853.html) commands to ensure the plot is displayed. Like newline, there are various ways in `g3p` to flush the buffers:\n",
    "- **Implicit** (available only in Jupyter Notebooks)\n",
    "  - Omitting semicolon from a `gnuplot` instance as the last element of a cell or using `xcpp::display(gp)`\n",
    "- **Explicit**\n",
    "  - End-of-line member function: `gp.endl()`\n",
    "  - Flush member function: `gp.flush()`\n",
    "  - Log member function: `gp.log()`\n",
    "  - Flush manipulator: `gp << g3p::flush`\n"
   ]
  },
  {
   "cell_type": "markdown",
   "id": "1ecd395e-6616-427b-9b63-ba7ad02b1b99",
   "metadata": {},
   "source": [
    "## 4. Embedding data into a stream of `gnuplot` commands\n",
    "So far, we've used functions defined in `gnuplot` for plotting. While it's perfectly fine to use `g3p` to produce plots using pure `gnuplot` facilities, as is usually the case, the whole point of using `g3p` is to plot data generated by `C/C++` functions. There are two mechanisms for embedding data into a stream of `gnuplot` commands and we're going to explore them in the next two sections."
   ]
  },
  {
   "cell_type": "markdown",
   "id": "4f417a1b-34bd-406d-927c-a16530f37b02",
   "metadata": {},
   "source": [
    "### 4.1. Inline data\n",
    "If the *special filename* `'-'` appears in a plot command, then the lines immediately following the plot command are interpreted as *inline data*. To demonstrate that, let's first define a function template. We use [Matlab's Peaks](https://www.mathworks.com/help/matlab/ref/peaks.html) as our function:"
   ]
  },
  {
   "cell_type": "code",
   "execution_count": null,
   "id": "1d001613-6a5e-4a25-9fb1-6a617e059505",
   "metadata": {},
   "outputs": [],
   "source": [
    "#include <cmath>\n",
    "\n",
    "template<typename T = float>\n",
    "auto matlab_peaks(T x1, T x2) -> T\n",
    "{   return\n",
    "        (   T(3)\n",
    "        *   std::pow(T(1) - x1, T(2))\n",
    "        *   std::exp(-std::pow(x1, T(2)) - std::pow(x2 + T(1), T(2)))\n",
    "        -   (T(10) * (x1 / T(5) - std::pow(x1, T(3)) - std::pow(x2, T(5))) * std::exp(-std::pow(x1, T(2)) - std::pow(x2, T(2))))\n",
    "        -   (T(1) / T(3) * std::exp(-std::pow(x1 + T(1), T(2)) - std::pow(x2, T(2))))\n",
    "        );\n",
    "}"
   ]
  },
  {
   "cell_type": "code",
   "execution_count": null,
   "id": "aff9c14e-c337-4310-99e2-58d4c002e137",
   "metadata": {},
   "outputs": [],
   "source": [
    "// let's start with a new gp instance\n",
    "g3p::gnuplot gp;\n",
    "\n",
    "// setting our plot\n",
    "gp  (\"set nokey\")\n",
    "    (\"set view 60, 320,,1.2\")\n",
    "    (\"set border 895\")\n",
    "    (\"unset colorbox\")\n",
    "    (\"set grid x y z\")\n",
    "    (\"set xrange[-3:3]\")\n",
    "    (\"set yrange[-3:3]\")\n",
    "    (\"set zrange[-8:10]\")\n",
    "    (\"set ticslevel 0\")\n",
    "    (\"set palette rgb 33,13,10\")\n",
    "    (\"set pm3d\")\n",
    "    (\"set pm3d depthorder border\")\n",
    "    (\"splot '-' with lines lc 'black' lw 0.2\");\n",
    "//           ^ --> tells gnuplot that data is coming after this command\n",
    "\n",
    "// now we can start embedding our inline data...\n",
    "for (float i = -3.0f; i < 3.0f; i += 0.15f)\n",
    "{   for (float j = -3.0f; j < 3.0f; j += 0.15f) \n",
    "        gp << i << j << matlab_peaks(i, j) << \"\\n\";\n",
    "    gp.endl();\n",
    "}\n",
    "\n",
    "// once the data stream is finished we have to inform\n",
    "// gnuplot by sending the end signal:\n",
    "gp.end()"
   ]
  },
  {
   "cell_type": "markdown",
   "id": "79d180f2-31c8-4c67-bccd-a8f8016a8384",
   "metadata": {},
   "source": [
    "### 4.2. Datablocks\n",
    "Data provided in the previous method can only be used once, by the plot command it follows. Often, we want to use the data referenced by more than one plot command in the same plot or multiplots. That's where *datablocks* come into play. You just need to define the datablock once and then you can use its name to refer to it. Here is the multiplot of the same Peaks function using *datablocks*:"
   ]
  },
  {
   "cell_type": "code",
   "execution_count": null,
   "id": "a20c0bd1-bae4-4b61-8767-dd4ff8bf1c64",
   "metadata": {},
   "outputs": [],
   "source": [
    "#include <vector>\n",
    "\n",
    "// we first put our data in a 3d vector\n",
    "std::vector<float> grid(40 * 40 * 3); // 40 x 40 x 3 grid\n",
    "auto itr = std::begin(grid);\n",
    "for (float i = -3.0f; i <= 3.0f; i += 0.15f)\n",
    "    for (float j = -3.0f; j <= 3.0f; j += 0.15f)\n",
    "    {   *itr++ = i;\n",
    "        *itr++ = j;\n",
    "        *itr++ = matlab_peaks(i, j);\n",
    "    }"
   ]
  },
  {
   "cell_type": "code",
   "execution_count": null,
   "id": "f839a74b-a0b3-4a28-880d-c8d44ac99a08",
   "metadata": {},
   "outputs": [],
   "source": [
    "// we use make_data_block function provided by g3p\n",
    "// to turn our vector into a datablock\n",
    "auto peaks = make_data_block(gp, grid, 3, 40);\n",
    "\n",
    "// now we can use it in a multiplot\n",
    "// NOTE: we mix and match C and C++ conventions here...\n",
    "gp  (\"set term svg size 600 1000\")\n",
    "    (\"set multiplot layout 2,1 spacing 0,0\")\n",
    "    << \"splot\"\n",
    "    << peaks // <-- using peaks once\n",
    "    << \"with lines lc 'black' lw 0.2\\n\";\n",
    "gp  (\"set view map\")\n",
    "    (\"set contour\")\n",
    "    (\"set cntrparam levels 50\")\n",
    "    (\"unset surface\")\n",
    "    << \"splot\"\n",
    "    << peaks // <-- using peaks twice\n",
    "    << \"w lines\\n\"\n",
    "    << \"unset multiplot\\n\""
   ]
  },
  {
   "cell_type": "markdown",
   "id": "6026ce25-c5fd-4ca9-b60c-f25fe0721f97",
   "metadata": {},
   "source": [
    "## 5. Animation\n",
    "`gnuplot` supports a large number of [output formats (i.e. terminals)](http://gnuplot.info/docs_5.5/Terminals.html). A few of them can be embedded in a Jupyter Notebook: [gif](http://gnuplot.info/docs_5.5/loc20476.html), [jpeg](http://gnuplot.info/docs_5.5/loc20716.html), [png](http://gnuplot.info/docs_5.5/loc21324.html), [pngcairo](http://gnuplot.info/docs_5.5/loc21400.html), and last but not least [svg](http://gnuplot.info/docs_5.5/loc22178.html). The default terminal used by `g3p` for a new `gnuplot` instance in a Jupyter Notebook is `svg`. Based on your plotting needs, you can switch to any other formats mentioned in the above list.\n",
    "\n",
    "One particularly important one is the `gif` terminal because it's the only format that supports animation out of the box. Let's change our first example to show a moving sine wave using `gif` terminal:\n",
    "\n",
    "✋**NOTE:** Depending on the frame size and the number of frames, it may take a while for the animation to appear."
   ]
  },
  {
   "cell_type": "code",
   "execution_count": null,
   "id": "32dec42b-fd98-431b-9305-b347dfc283e1",
   "metadata": {},
   "outputs": [],
   "source": [
    "g3p::gnuplot gp;\n",
    "gp (\"set term gif enhanced transparent animate\")\n",
    "   (\"set nokey\")\n",
    "   (\"set samples 200\")\n",
    "   (\"set style data points\");\n",
    "for (float i = 0; i < 19; i += 0.2)\n",
    "    gp(\"plot [-10:10] sin(x + %f) lw 2.0\", i);\n",
    "gp"
   ]
  },
  {
   "cell_type": "markdown",
   "id": "1461fc26",
   "metadata": {},
   "source": [
    "## 6. Troubleshooting\n",
    "While tinkering with a plot, there are times that you get an unexpected output or not anything at all. `g3p` provides three ways to communicate with `gnuplot` instance to get more information and those are the subjects of the next sections.\n",
    "### 6.1. `last_error()` member function\n",
    "\n",
    "### 6.2. `log()` member function\n",
    "\n",
    "### 6.3. `>>` operator\n",
    "\n"
   ]
  }
 ],
 "metadata": {
  "kernelspec": {
   "display_name": "C++17",
   "language": "C++17",
   "name": "xcpp17"
  },
  "language_info": {
   "codemirror_mode": "text/x-c++src",
   "file_extension": ".cpp",
   "mimetype": "text/x-c++src",
   "name": "c++",
   "version": "17"
  }
 },
 "nbformat": 4,
 "nbformat_minor": 5
}
